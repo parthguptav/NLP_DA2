{
  "nbformat": 4,
  "nbformat_minor": 0,
  "metadata": {
    "colab": {
      "name": "Untitled15.ipynb",
      "provenance": []
    },
    "kernelspec": {
      "name": "python3",
      "display_name": "Python 3"
    },
    "language_info": {
      "name": "python"
    }
  },
  "cells": [
    {
      "cell_type": "markdown",
      "source": [
        "#CSE4022 Natural Language Processing\n",
        "#Digital Assignment -2\n",
        "\n",
        "#19BCE1022 - Parth Gupta"
      ],
      "metadata": {
        "id": "YNypPglpciaP"
      }
    },
    {
      "cell_type": "markdown",
      "source": [
        "#Create a text corpus with minimum 200 words (unique contents). "
      ],
      "metadata": {
        "id": "srOu1zP6lvzV"
      }
    },
    {
      "cell_type": "code",
      "source": [
        "nltk.download('punkt')\n",
        "nltk.download('wordnet')\n",
        "nltk.download('omw-1.4')\n",
        "nltk.download('averaged_perceptron_tagger')"
      ],
      "metadata": {
        "colab": {
          "base_uri": "https://localhost:8080/"
        },
        "id": "lNNxyTW9gAGv",
        "outputId": "ab5ad7c8-0098-4d9b-9168-e1ac94704b19"
      },
      "execution_count": null,
      "outputs": [
        {
          "output_type": "stream",
          "name": "stderr",
          "text": [
            "[nltk_data] Downloading package punkt to /root/nltk_data...\n",
            "[nltk_data]   Package punkt is already up-to-date!\n",
            "[nltk_data] Downloading package wordnet to /root/nltk_data...\n",
            "[nltk_data]   Package wordnet is already up-to-date!\n",
            "[nltk_data] Downloading package omw-1.4 to /root/nltk_data...\n",
            "[nltk_data]   Package omw-1.4 is already up-to-date!\n",
            "[nltk_data] Downloading package averaged_perceptron_tagger to\n",
            "[nltk_data]     /root/nltk_data...\n",
            "[nltk_data]   Unzipping taggers/averaged_perceptron_tagger.zip.\n"
          ]
        },
        {
          "output_type": "execute_result",
          "data": {
            "text/plain": [
              "True"
            ]
          },
          "metadata": {},
          "execution_count": 32
        }
      ]
    },
    {
      "cell_type": "markdown",
      "source": [
        "Creating corpus of the 2 text files file1 and file2"
      ],
      "metadata": {
        "id": "r67anAVoiS_X"
      }
    },
    {
      "cell_type": "code",
      "source": [
        "import os\n",
        "from nltk.corpus.reader.plaintext import PlaintextCorpusReader\n",
        "\n",
        "corpusdir = '/content/corpus'\n",
        "\n",
        "newcorpus = PlaintextCorpusReader(corpusdir, '.*')"
      ],
      "metadata": {
        "id": "cqFjo-C-l1nQ"
      },
      "execution_count": null,
      "outputs": []
    },
    {
      "cell_type": "code",
      "source": [
        "text=newcorpus.raw().strip()\n",
        "print(newcorpus.raw().strip())"
      ],
      "metadata": {
        "colab": {
          "base_uri": "https://localhost:8080/"
        },
        "id": "FEiRHRcSem6f",
        "outputId": "d24a3c96-0f37-459a-a20e-42580ecd9aa4"
      },
      "execution_count": null,
      "outputs": [
        {
          "output_type": "stream",
          "name": "stdout",
          "text": [
            "A path from a point approximately 330 metres east of the most south westerly corner of 17 Batherton Close, Widnes and approximately 208 metres east-south-east of the most southerly corner of Unit 3 Foundry Industrial Estate, Victoria Street, Widnes, proceeding in a generally east-north-easterly direction for approximately 28 metres to a point approximately 202 metres east-south-east of the most south-easterly corner of Unit 4 Foundry Industrial Estate, Victoria Street, and approximately 347 metres east of the most south-easterly corner of 17 Batherton Close, then proceeding in a generally northerly direction for approximately 21 metres to a point approximately 210 metres east of the most south-easterly corner of Unit 5 Foundry Industrial Estate, Victoria Street, and approximately 202 metres east-south-east of the most north-easterly corner of Unit 4 Foundry Industrial Estate, Victoria Street, then proceeding in a generally east-north-east direction for approximately 64 metres to a point approximately 282 metres east-south-east of the most easterly corner of Unit 2 Foundry Industrial Estate, Victoria Street, Widnes and approximately 259 metres east of the most southerly corner of Unit 4 Foundry Industrial Estate, Victoria Street, then proceeding in a generally east-north-east direction for approximately 350 metres to a point approximately 3 metres west-north-west of the most north westerly corner of the boundary fence of the scrap metal yard on the south side of Cornubia Road, Widnes, and approximately 47 metres west-south-west of the stub end of Cornubia Road be diverted to a 3 metre wide path from a point approximately 183 metres east-south-east of the most easterly corner of Unit 5 Foundry Industrial Estate, Victoria Street and approximately 272 metres east of the most north-easterly corner of 26 Ann Street West, Widnes, then proceeding in a generally north easterly direction for approximately 58 metres to a point approximately 216 metres east-south-east of the most easterly corner of Unit 4 Foundry Industrial Estate, Victoria Street and approximately 221 metres east of the most southerly corner of Unit 5 Foundry Industrial Estate, Victoria Street, then proceeding in a generally easterly direction for approximately 45 metres to a point approximately 265 metres east-south-east of the most north-easterly corner of Unit 3 Foundry Industrial Estate, Victoria Street and approximately 265 metres east of the most southerly corner of Unit 5 Foundry Industrial Estate, Victoria Street, then proceeding in a generally east-south-east direction for approximately 102 metres to a point approximately 366 metres east-south-east of the most easterly corner of Unit 3 Foundry Industrial Estate, Victoria Street and approximately 463 metres east of the most north easterly corner of 22 Ann Street West, Widnes, then proceeding in a generally north-north-easterly direction for approximately 19 metres to a point approximately 368 metres east-south-east of the most easterly corner of Unit 3 Foundry Industrial Estate, Victoria Street and approximately 512 metres east of the most south easterly corner of 17 Batherton Close, Widnes then proceeding in a generally east-south, easterly direction for approximately 16 metres to a point approximately 420 metres east-south-east of the most southerly corner of Unit 2 Foundry Industrial Estate, Victoria Street and approximately 533 metres east of the most south-easterly corner of 17 Batherton Close, then proceeding in a generally east-north-easterly direction for approximately 240 metres to a point approximately 606 metres east of the most northerly corner of Unit 4 Foundry Industrial Estate, Victoria Street and approximately 23 metres south of the most south westerly corner of the boundary fencing of the scrap metal yard on the south side of Cornubia Road, Widnes, then proceeding in a generally northern direction for approximately 44 metres to a point approximately 3 metres west-north-west of the most north westerly corner of the boundary fence of the scrap metal yard on the south side of Cornubia Road and approximately 47 metres west-south-west of the stub end of Cornubia Road.I finished the work in less than an hour.\r\n",
            "Did he look like a doctor?\r\n",
            "He ran into debt.\r\n",
            "They concluded that he had told a lie.\r\n",
            "I ran into Mary at the party last week.\r\n",
            "I said nothing about the matter.\r\n",
            "His brother is more patient than he is.\r\n",
            "Tom was caught sneaking out of the room.\r\n",
            "No one stops to listen to him.\r\n",
            "Please wait around for a while.\r\n",
            "There is going to be a storm. I clapped my hands. I have just finished my homework. What do you plan to do?\r\n",
            "I asked him if he knew my name.\n"
          ]
        }
      ]
    },
    {
      "cell_type": "markdown",
      "source": [
        "##Paragraphs Seementation"
      ],
      "metadata": {
        "id": "b9kv1wpridgc"
      }
    },
    {
      "cell_type": "code",
      "source": [
        "print(newcorpus.paras())"
      ],
      "metadata": {
        "colab": {
          "base_uri": "https://localhost:8080/"
        },
        "id": "QMJ7v5lOe6CA",
        "outputId": "10a3c4bd-9960-40d5-f441-1b38cf031150"
      },
      "execution_count": null,
      "outputs": [
        {
          "output_type": "stream",
          "name": "stdout",
          "text": [
            "[[['A', 'path', 'from', 'a', 'point', 'approximately', '330', 'metres', 'east', 'of', 'the', 'most', 'south', 'westerly', 'corner', 'of', '17', 'Batherton', 'Close', ',', 'Widnes', 'and', 'approximately', '208', 'metres', 'east', '-', 'south', '-', 'east', 'of', 'the', 'most', 'southerly', 'corner', 'of', 'Unit', '3', 'Foundry', 'Industrial', 'Estate', ',', 'Victoria', 'Street', ',', 'Widnes', ',', 'proceeding', 'in', 'a', 'generally', 'east', '-', 'north', '-', 'easterly', 'direction', 'for', 'approximately', '28', 'metres', 'to', 'a', 'point', 'approximately', '202', 'metres', 'east', '-', 'south', '-', 'east', 'of', 'the', 'most', 'south', '-', 'easterly', 'corner', 'of', 'Unit', '4', 'Foundry', 'Industrial', 'Estate', ',', 'Victoria', 'Street', ',', 'and', 'approximately', '347', 'metres', 'east', 'of', 'the', 'most', 'south', '-', 'easterly', 'corner', 'of', '17', 'Batherton', 'Close', ',', 'then', 'proceeding', 'in', 'a', 'generally', 'northerly', 'direction', 'for', 'approximately', '21', 'metres', 'to', 'a', 'point', 'approximately', '210', 'metres', 'east', 'of', 'the', 'most', 'south', '-', 'easterly', 'corner', 'of', 'Unit', '5', 'Foundry', 'Industrial', 'Estate', ',', 'Victoria', 'Street', ',', 'and', 'approximately', '202', 'metres', 'east', '-', 'south', '-', 'east', 'of', 'the', 'most', 'north', '-', 'easterly', 'corner', 'of', 'Unit', '4', 'Foundry', 'Industrial', 'Estate', ',', 'Victoria', 'Street', ',', 'then', 'proceeding', 'in', 'a', 'generally', 'east', '-', 'north', '-', 'east', 'direction', 'for', 'approximately', '64', 'metres', 'to', 'a', 'point', 'approximately', '282', 'metres', 'east', '-', 'south', '-', 'east', 'of', 'the', 'most', 'easterly', 'corner', 'of', 'Unit', '2', 'Foundry', 'Industrial', 'Estate', ',', 'Victoria', 'Street', ',', 'Widnes', 'and', 'approximately', '259', 'metres', 'east', 'of', 'the', 'most', 'southerly', 'corner', 'of', 'Unit', '4', 'Foundry', 'Industrial', 'Estate', ',', 'Victoria', 'Street', ',', 'then', 'proceeding', 'in', 'a', 'generally', 'east', '-', 'north', '-', 'east', 'direction', 'for', 'approximately', '350', 'metres', 'to', 'a', 'point', 'approximately', '3', 'metres', 'west', '-', 'north', '-', 'west', 'of', 'the', 'most', 'north', 'westerly', 'corner', 'of', 'the', 'boundary', 'fence', 'of', 'the', 'scrap', 'metal', 'yard', 'on', 'the', 'south', 'side', 'of', 'Cornubia', 'Road', ',', 'Widnes', ',', 'and', 'approximately', '47', 'metres', 'west', '-', 'south', '-', 'west', 'of', 'the', 'stub', 'end', 'of', 'Cornubia', 'Road', 'be', 'diverted', 'to', 'a', '3', 'metre', 'wide', 'path', 'from', 'a', 'point', 'approximately', '183', 'metres', 'east', '-', 'south', '-', 'east', 'of', 'the', 'most', 'easterly', 'corner', 'of', 'Unit', '5', 'Foundry', 'Industrial', 'Estate', ',', 'Victoria', 'Street', 'and', 'approximately', '272', 'metres', 'east', 'of', 'the', 'most', 'north', '-', 'easterly', 'corner', 'of', '26', 'Ann', 'Street', 'West', ',', 'Widnes', ',', 'then', 'proceeding', 'in', 'a', 'generally', 'north', 'easterly', 'direction', 'for', 'approximately', '58', 'metres', 'to', 'a', 'point', 'approximately', '216', 'metres', 'east', '-', 'south', '-', 'east', 'of', 'the', 'most', 'easterly', 'corner', 'of', 'Unit', '4', 'Foundry', 'Industrial', 'Estate', ',', 'Victoria', 'Street', 'and', 'approximately', '221', 'metres', 'east', 'of', 'the', 'most', 'southerly', 'corner', 'of', 'Unit', '5', 'Foundry', 'Industrial', 'Estate', ',', 'Victoria', 'Street', ',', 'then', 'proceeding', 'in', 'a', 'generally', 'easterly', 'direction', 'for', 'approximately', '45', 'metres', 'to', 'a', 'point', 'approximately', '265', 'metres', 'east', '-', 'south', '-', 'east', 'of', 'the', 'most', 'north', '-', 'easterly', 'corner', 'of', 'Unit', '3', 'Foundry', 'Industrial', 'Estate', ',', 'Victoria', 'Street', 'and', 'approximately', '265', 'metres', 'east', 'of', 'the', 'most', 'southerly', 'corner', 'of', 'Unit', '5', 'Foundry', 'Industrial', 'Estate', ',', 'Victoria', 'Street', ',', 'then', 'proceeding', 'in', 'a', 'generally', 'east', '-', 'south', '-', 'east', 'direction', 'for', 'approximately', '102', 'metres', 'to', 'a', 'point', 'approximately', '366', 'metres', 'east', '-', 'south', '-', 'east', 'of', 'the', 'most', 'easterly', 'corner', 'of', 'Unit', '3', 'Foundry', 'Industrial', 'Estate', ',', 'Victoria', 'Street', 'and', 'approximately', '463', 'metres', 'east', 'of', 'the', 'most', 'north', 'easterly', 'corner', 'of', '22', 'Ann', 'Street', 'West', ',', 'Widnes', ',', 'then', 'proceeding', 'in', 'a', 'generally', 'north', '-', 'north', '-', 'easterly', 'direction', 'for', 'approximately', '19', 'metres', 'to', 'a', 'point', 'approximately', '368', 'metres', 'east', '-', 'south', '-', 'east', 'of', 'the', 'most', 'easterly', 'corner', 'of', 'Unit', '3', 'Foundry', 'Industrial', 'Estate', ',', 'Victoria', 'Street', 'and', 'approximately', '512', 'metres', 'east', 'of', 'the', 'most', 'south', 'easterly', 'corner', 'of', '17', 'Batherton', 'Close', ',', 'Widnes', 'then', 'proceeding', 'in', 'a', 'generally', 'east', '-', 'south', ',', 'easterly', 'direction', 'for', 'approximately', '16', 'metres', 'to', 'a', 'point', 'approximately', '420', 'metres', 'east', '-', 'south', '-', 'east', 'of', 'the', 'most', 'southerly', 'corner', 'of', 'Unit', '2', 'Foundry', 'Industrial', 'Estate', ',', 'Victoria', 'Street', 'and', 'approximately', '533', 'metres', 'east', 'of', 'the', 'most', 'south', '-', 'easterly', 'corner', 'of', '17', 'Batherton', 'Close', ',', 'then', 'proceeding', 'in', 'a', 'generally', 'east', '-', 'north', '-', 'easterly', 'direction', 'for', 'approximately', '240', 'metres', 'to', 'a', 'point', 'approximately', '606', 'metres', 'east', 'of', 'the', 'most', 'northerly', 'corner', 'of', 'Unit', '4', 'Foundry', 'Industrial', 'Estate', ',', 'Victoria', 'Street', 'and', 'approximately', '23', 'metres', 'south', 'of', 'the', 'most', 'south', 'westerly', 'corner', 'of', 'the', 'boundary', 'fencing', 'of', 'the', 'scrap', 'metal', 'yard', 'on', 'the', 'south', 'side', 'of', 'Cornubia', 'Road', ',', 'Widnes', ',', 'then', 'proceeding', 'in', 'a', 'generally', 'northern', 'direction', 'for', 'approximately', '44', 'metres', 'to', 'a', 'point', 'approximately', '3', 'metres', 'west', '-', 'north', '-', 'west', 'of', 'the', 'most', 'north', 'westerly', 'corner', 'of', 'the', 'boundary', 'fence', 'of', 'the', 'scrap', 'metal', 'yard', 'on', 'the', 'south', 'side', 'of', 'Cornubia', 'Road', 'and', 'approximately', '47', 'metres', 'west', '-', 'south', '-', 'west', 'of', 'the', 'stub', 'end', 'of', 'Cornubia', 'Road', '.']], [['I', 'finished', 'the', 'work', 'in', 'less', 'than', 'an', 'hour', '.'], ['Did', 'he', 'look', 'like', 'a', 'doctor', '?'], ['He', 'ran', 'into', 'debt', '.'], ['They', 'concluded', 'that', 'he', 'had', 'told', 'a', 'lie', '.'], ['I', 'ran', 'into', 'Mary', 'at', 'the', 'party', 'last', 'week', '.'], ['I', 'said', 'nothing', 'about', 'the', 'matter', '.'], ['His', 'brother', 'is', 'more', 'patient', 'than', 'he', 'is', '.'], ['Tom', 'was', 'caught', 'sneaking', 'out', 'of', 'the', 'room', '.'], ['No', 'one', 'stops', 'to', 'listen', 'to', 'him', '.'], ['Please', 'wait', 'around', 'for', 'a', 'while', '.'], ['There', 'is', 'going', 'to', 'be', 'a', 'storm', '.'], ['I', 'clapped', 'my', 'hands', '.'], ['I', 'have', 'just', 'finished', 'my', 'homework', '.'], ['What', 'do', 'you', 'plan', 'to', 'do', '?'], ['I', 'asked', 'him', 'if', 'he', 'knew', 'my', 'name', '.']]]\n"
          ]
        }
      ]
    },
    {
      "cell_type": "markdown",
      "source": [
        "##Sentences Segmentation"
      ],
      "metadata": {
        "id": "m8-7n9h4ihpb"
      }
    },
    {
      "cell_type": "code",
      "source": [
        "print(newcorpus.sents())"
      ],
      "metadata": {
        "colab": {
          "base_uri": "https://localhost:8080/"
        },
        "id": "zO_TpolbgxG4",
        "outputId": "af98facc-7727-4114-c846-755d14448ade"
      },
      "execution_count": null,
      "outputs": [
        {
          "output_type": "stream",
          "name": "stdout",
          "text": [
            "[['A', 'path', 'from', 'a', 'point', 'approximately', '330', 'metres', 'east', 'of', 'the', 'most', 'south', 'westerly', 'corner', 'of', '17', 'Batherton', 'Close', ',', 'Widnes', 'and', 'approximately', '208', 'metres', 'east', '-', 'south', '-', 'east', 'of', 'the', 'most', 'southerly', 'corner', 'of', 'Unit', '3', 'Foundry', 'Industrial', 'Estate', ',', 'Victoria', 'Street', ',', 'Widnes', ',', 'proceeding', 'in', 'a', 'generally', 'east', '-', 'north', '-', 'easterly', 'direction', 'for', 'approximately', '28', 'metres', 'to', 'a', 'point', 'approximately', '202', 'metres', 'east', '-', 'south', '-', 'east', 'of', 'the', 'most', 'south', '-', 'easterly', 'corner', 'of', 'Unit', '4', 'Foundry', 'Industrial', 'Estate', ',', 'Victoria', 'Street', ',', 'and', 'approximately', '347', 'metres', 'east', 'of', 'the', 'most', 'south', '-', 'easterly', 'corner', 'of', '17', 'Batherton', 'Close', ',', 'then', 'proceeding', 'in', 'a', 'generally', 'northerly', 'direction', 'for', 'approximately', '21', 'metres', 'to', 'a', 'point', 'approximately', '210', 'metres', 'east', 'of', 'the', 'most', 'south', '-', 'easterly', 'corner', 'of', 'Unit', '5', 'Foundry', 'Industrial', 'Estate', ',', 'Victoria', 'Street', ',', 'and', 'approximately', '202', 'metres', 'east', '-', 'south', '-', 'east', 'of', 'the', 'most', 'north', '-', 'easterly', 'corner', 'of', 'Unit', '4', 'Foundry', 'Industrial', 'Estate', ',', 'Victoria', 'Street', ',', 'then', 'proceeding', 'in', 'a', 'generally', 'east', '-', 'north', '-', 'east', 'direction', 'for', 'approximately', '64', 'metres', 'to', 'a', 'point', 'approximately', '282', 'metres', 'east', '-', 'south', '-', 'east', 'of', 'the', 'most', 'easterly', 'corner', 'of', 'Unit', '2', 'Foundry', 'Industrial', 'Estate', ',', 'Victoria', 'Street', ',', 'Widnes', 'and', 'approximately', '259', 'metres', 'east', 'of', 'the', 'most', 'southerly', 'corner', 'of', 'Unit', '4', 'Foundry', 'Industrial', 'Estate', ',', 'Victoria', 'Street', ',', 'then', 'proceeding', 'in', 'a', 'generally', 'east', '-', 'north', '-', 'east', 'direction', 'for', 'approximately', '350', 'metres', 'to', 'a', 'point', 'approximately', '3', 'metres', 'west', '-', 'north', '-', 'west', 'of', 'the', 'most', 'north', 'westerly', 'corner', 'of', 'the', 'boundary', 'fence', 'of', 'the', 'scrap', 'metal', 'yard', 'on', 'the', 'south', 'side', 'of', 'Cornubia', 'Road', ',', 'Widnes', ',', 'and', 'approximately', '47', 'metres', 'west', '-', 'south', '-', 'west', 'of', 'the', 'stub', 'end', 'of', 'Cornubia', 'Road', 'be', 'diverted', 'to', 'a', '3', 'metre', 'wide', 'path', 'from', 'a', 'point', 'approximately', '183', 'metres', 'east', '-', 'south', '-', 'east', 'of', 'the', 'most', 'easterly', 'corner', 'of', 'Unit', '5', 'Foundry', 'Industrial', 'Estate', ',', 'Victoria', 'Street', 'and', 'approximately', '272', 'metres', 'east', 'of', 'the', 'most', 'north', '-', 'easterly', 'corner', 'of', '26', 'Ann', 'Street', 'West', ',', 'Widnes', ',', 'then', 'proceeding', 'in', 'a', 'generally', 'north', 'easterly', 'direction', 'for', 'approximately', '58', 'metres', 'to', 'a', 'point', 'approximately', '216', 'metres', 'east', '-', 'south', '-', 'east', 'of', 'the', 'most', 'easterly', 'corner', 'of', 'Unit', '4', 'Foundry', 'Industrial', 'Estate', ',', 'Victoria', 'Street', 'and', 'approximately', '221', 'metres', 'east', 'of', 'the', 'most', 'southerly', 'corner', 'of', 'Unit', '5', 'Foundry', 'Industrial', 'Estate', ',', 'Victoria', 'Street', ',', 'then', 'proceeding', 'in', 'a', 'generally', 'easterly', 'direction', 'for', 'approximately', '45', 'metres', 'to', 'a', 'point', 'approximately', '265', 'metres', 'east', '-', 'south', '-', 'east', 'of', 'the', 'most', 'north', '-', 'easterly', 'corner', 'of', 'Unit', '3', 'Foundry', 'Industrial', 'Estate', ',', 'Victoria', 'Street', 'and', 'approximately', '265', 'metres', 'east', 'of', 'the', 'most', 'southerly', 'corner', 'of', 'Unit', '5', 'Foundry', 'Industrial', 'Estate', ',', 'Victoria', 'Street', ',', 'then', 'proceeding', 'in', 'a', 'generally', 'east', '-', 'south', '-', 'east', 'direction', 'for', 'approximately', '102', 'metres', 'to', 'a', 'point', 'approximately', '366', 'metres', 'east', '-', 'south', '-', 'east', 'of', 'the', 'most', 'easterly', 'corner', 'of', 'Unit', '3', 'Foundry', 'Industrial', 'Estate', ',', 'Victoria', 'Street', 'and', 'approximately', '463', 'metres', 'east', 'of', 'the', 'most', 'north', 'easterly', 'corner', 'of', '22', 'Ann', 'Street', 'West', ',', 'Widnes', ',', 'then', 'proceeding', 'in', 'a', 'generally', 'north', '-', 'north', '-', 'easterly', 'direction', 'for', 'approximately', '19', 'metres', 'to', 'a', 'point', 'approximately', '368', 'metres', 'east', '-', 'south', '-', 'east', 'of', 'the', 'most', 'easterly', 'corner', 'of', 'Unit', '3', 'Foundry', 'Industrial', 'Estate', ',', 'Victoria', 'Street', 'and', 'approximately', '512', 'metres', 'east', 'of', 'the', 'most', 'south', 'easterly', 'corner', 'of', '17', 'Batherton', 'Close', ',', 'Widnes', 'then', 'proceeding', 'in', 'a', 'generally', 'east', '-', 'south', ',', 'easterly', 'direction', 'for', 'approximately', '16', 'metres', 'to', 'a', 'point', 'approximately', '420', 'metres', 'east', '-', 'south', '-', 'east', 'of', 'the', 'most', 'southerly', 'corner', 'of', 'Unit', '2', 'Foundry', 'Industrial', 'Estate', ',', 'Victoria', 'Street', 'and', 'approximately', '533', 'metres', 'east', 'of', 'the', 'most', 'south', '-', 'easterly', 'corner', 'of', '17', 'Batherton', 'Close', ',', 'then', 'proceeding', 'in', 'a', 'generally', 'east', '-', 'north', '-', 'easterly', 'direction', 'for', 'approximately', '240', 'metres', 'to', 'a', 'point', 'approximately', '606', 'metres', 'east', 'of', 'the', 'most', 'northerly', 'corner', 'of', 'Unit', '4', 'Foundry', 'Industrial', 'Estate', ',', 'Victoria', 'Street', 'and', 'approximately', '23', 'metres', 'south', 'of', 'the', 'most', 'south', 'westerly', 'corner', 'of', 'the', 'boundary', 'fencing', 'of', 'the', 'scrap', 'metal', 'yard', 'on', 'the', 'south', 'side', 'of', 'Cornubia', 'Road', ',', 'Widnes', ',', 'then', 'proceeding', 'in', 'a', 'generally', 'northern', 'direction', 'for', 'approximately', '44', 'metres', 'to', 'a', 'point', 'approximately', '3', 'metres', 'west', '-', 'north', '-', 'west', 'of', 'the', 'most', 'north', 'westerly', 'corner', 'of', 'the', 'boundary', 'fence', 'of', 'the', 'scrap', 'metal', 'yard', 'on', 'the', 'south', 'side', 'of', 'Cornubia', 'Road', 'and', 'approximately', '47', 'metres', 'west', '-', 'south', '-', 'west', 'of', 'the', 'stub', 'end', 'of', 'Cornubia', 'Road', '.'], ['I', 'finished', 'the', 'work', 'in', 'less', 'than', 'an', 'hour', '.'], ...]\n"
          ]
        }
      ]
    },
    {
      "cell_type": "code",
      "source": [
        "print(nltk.sent_tokenize(text))"
      ],
      "metadata": {
        "colab": {
          "base_uri": "https://localhost:8080/"
        },
        "id": "w_lA9Fx3i2N3",
        "outputId": "2ec6308c-55e4-4bb1-e015-3dd1013b3cf2"
      },
      "execution_count": null,
      "outputs": [
        {
          "output_type": "stream",
          "name": "stdout",
          "text": [
            "['A path from a point approximately 330 metres east of the most south westerly corner of 17 Batherton Close, Widnes and approximately 208 metres east-south-east of the most southerly corner of Unit 3 Foundry Industrial Estate, Victoria Street, Widnes, proceeding in a generally east-north-easterly direction for approximately 28 metres to a point approximately 202 metres east-south-east of the most south-easterly corner of Unit 4 Foundry Industrial Estate, Victoria Street, and approximately 347 metres east of the most south-easterly corner of 17 Batherton Close, then proceeding in a generally northerly direction for approximately 21 metres to a point approximately 210 metres east of the most south-easterly corner of Unit 5 Foundry Industrial Estate, Victoria Street, and approximately 202 metres east-south-east of the most north-easterly corner of Unit 4 Foundry Industrial Estate, Victoria Street, then proceeding in a generally east-north-east direction for approximately 64 metres to a point approximately 282 metres east-south-east of the most easterly corner of Unit 2 Foundry Industrial Estate, Victoria Street, Widnes and approximately 259 metres east of the most southerly corner of Unit 4 Foundry Industrial Estate, Victoria Street, then proceeding in a generally east-north-east direction for approximately 350 metres to a point approximately 3 metres west-north-west of the most north westerly corner of the boundary fence of the scrap metal yard on the south side of Cornubia Road, Widnes, and approximately 47 metres west-south-west of the stub end of Cornubia Road be diverted to a 3 metre wide path from a point approximately 183 metres east-south-east of the most easterly corner of Unit 5 Foundry Industrial Estate, Victoria Street and approximately 272 metres east of the most north-easterly corner of 26 Ann Street West, Widnes, then proceeding in a generally north easterly direction for approximately 58 metres to a point approximately 216 metres east-south-east of the most easterly corner of Unit 4 Foundry Industrial Estate, Victoria Street and approximately 221 metres east of the most southerly corner of Unit 5 Foundry Industrial Estate, Victoria Street, then proceeding in a generally easterly direction for approximately 45 metres to a point approximately 265 metres east-south-east of the most north-easterly corner of Unit 3 Foundry Industrial Estate, Victoria Street and approximately 265 metres east of the most southerly corner of Unit 5 Foundry Industrial Estate, Victoria Street, then proceeding in a generally east-south-east direction for approximately 102 metres to a point approximately 366 metres east-south-east of the most easterly corner of Unit 3 Foundry Industrial Estate, Victoria Street and approximately 463 metres east of the most north easterly corner of 22 Ann Street West, Widnes, then proceeding in a generally north-north-easterly direction for approximately 19 metres to a point approximately 368 metres east-south-east of the most easterly corner of Unit 3 Foundry Industrial Estate, Victoria Street and approximately 512 metres east of the most south easterly corner of 17 Batherton Close, Widnes then proceeding in a generally east-south, easterly direction for approximately 16 metres to a point approximately 420 metres east-south-east of the most southerly corner of Unit 2 Foundry Industrial Estate, Victoria Street and approximately 533 metres east of the most south-easterly corner of 17 Batherton Close, then proceeding in a generally east-north-easterly direction for approximately 240 metres to a point approximately 606 metres east of the most northerly corner of Unit 4 Foundry Industrial Estate, Victoria Street and approximately 23 metres south of the most south westerly corner of the boundary fencing of the scrap metal yard on the south side of Cornubia Road, Widnes, then proceeding in a generally northern direction for approximately 44 metres to a point approximately 3 metres west-north-west of the most north westerly corner of the boundary fence of the scrap metal yard on the south side of Cornubia Road and approximately 47 metres west-south-west of the stub end of Cornubia Road.I finished the work in less than an hour.', 'Did he look like a doctor?', 'He ran into debt.', 'They concluded that he had told a lie.', 'I ran into Mary at the party last week.', 'I said nothing about the matter.', 'His brother is more patient than he is.', 'Tom was caught sneaking out of the room.', 'No one stops to listen to him.', 'Please wait around for a while.', 'There is going to be a storm.', 'I clapped my hands.', 'I have just finished my homework.', 'What do you plan to do?', 'I asked him if he knew my name.']\n"
          ]
        }
      ]
    },
    {
      "cell_type": "markdown",
      "source": [
        "##Words Segementation"
      ],
      "metadata": {
        "id": "Gy8-5DEcikgT"
      }
    },
    {
      "cell_type": "code",
      "source": [
        "print(newcorpus.words())"
      ],
      "metadata": {
        "colab": {
          "base_uri": "https://localhost:8080/"
        },
        "id": "eNTzrGHZgT4w",
        "outputId": "5a3b9b76-0247-43a6-d2d1-d555db5d994d"
      },
      "execution_count": null,
      "outputs": [
        {
          "output_type": "stream",
          "name": "stdout",
          "text": [
            "['A', 'path', 'from', 'a', 'point', 'approximately', ...]\n"
          ]
        }
      ]
    },
    {
      "cell_type": "code",
      "source": [
        "print(nltk.word_tokenize(text))"
      ],
      "metadata": {
        "colab": {
          "base_uri": "https://localhost:8080/"
        },
        "id": "ARiuv_Y8jMYn",
        "outputId": "0895ef8e-2b78-4951-8e5a-97819098a540"
      },
      "execution_count": null,
      "outputs": [
        {
          "output_type": "stream",
          "name": "stdout",
          "text": [
            "['A', 'path', 'from', 'a', 'point', 'approximately', '330', 'metres', 'east', 'of', 'the', 'most', 'south', 'westerly', 'corner', 'of', '17', 'Batherton', 'Close', ',', 'Widnes', 'and', 'approximately', '208', 'metres', 'east-south-east', 'of', 'the', 'most', 'southerly', 'corner', 'of', 'Unit', '3', 'Foundry', 'Industrial', 'Estate', ',', 'Victoria', 'Street', ',', 'Widnes', ',', 'proceeding', 'in', 'a', 'generally', 'east-north-easterly', 'direction', 'for', 'approximately', '28', 'metres', 'to', 'a', 'point', 'approximately', '202', 'metres', 'east-south-east', 'of', 'the', 'most', 'south-easterly', 'corner', 'of', 'Unit', '4', 'Foundry', 'Industrial', 'Estate', ',', 'Victoria', 'Street', ',', 'and', 'approximately', '347', 'metres', 'east', 'of', 'the', 'most', 'south-easterly', 'corner', 'of', '17', 'Batherton', 'Close', ',', 'then', 'proceeding', 'in', 'a', 'generally', 'northerly', 'direction', 'for', 'approximately', '21', 'metres', 'to', 'a', 'point', 'approximately', '210', 'metres', 'east', 'of', 'the', 'most', 'south-easterly', 'corner', 'of', 'Unit', '5', 'Foundry', 'Industrial', 'Estate', ',', 'Victoria', 'Street', ',', 'and', 'approximately', '202', 'metres', 'east-south-east', 'of', 'the', 'most', 'north-easterly', 'corner', 'of', 'Unit', '4', 'Foundry', 'Industrial', 'Estate', ',', 'Victoria', 'Street', ',', 'then', 'proceeding', 'in', 'a', 'generally', 'east-north-east', 'direction', 'for', 'approximately', '64', 'metres', 'to', 'a', 'point', 'approximately', '282', 'metres', 'east-south-east', 'of', 'the', 'most', 'easterly', 'corner', 'of', 'Unit', '2', 'Foundry', 'Industrial', 'Estate', ',', 'Victoria', 'Street', ',', 'Widnes', 'and', 'approximately', '259', 'metres', 'east', 'of', 'the', 'most', 'southerly', 'corner', 'of', 'Unit', '4', 'Foundry', 'Industrial', 'Estate', ',', 'Victoria', 'Street', ',', 'then', 'proceeding', 'in', 'a', 'generally', 'east-north-east', 'direction', 'for', 'approximately', '350', 'metres', 'to', 'a', 'point', 'approximately', '3', 'metres', 'west-north-west', 'of', 'the', 'most', 'north', 'westerly', 'corner', 'of', 'the', 'boundary', 'fence', 'of', 'the', 'scrap', 'metal', 'yard', 'on', 'the', 'south', 'side', 'of', 'Cornubia', 'Road', ',', 'Widnes', ',', 'and', 'approximately', '47', 'metres', 'west-south-west', 'of', 'the', 'stub', 'end', 'of', 'Cornubia', 'Road', 'be', 'diverted', 'to', 'a', '3', 'metre', 'wide', 'path', 'from', 'a', 'point', 'approximately', '183', 'metres', 'east-south-east', 'of', 'the', 'most', 'easterly', 'corner', 'of', 'Unit', '5', 'Foundry', 'Industrial', 'Estate', ',', 'Victoria', 'Street', 'and', 'approximately', '272', 'metres', 'east', 'of', 'the', 'most', 'north-easterly', 'corner', 'of', '26', 'Ann', 'Street', 'West', ',', 'Widnes', ',', 'then', 'proceeding', 'in', 'a', 'generally', 'north', 'easterly', 'direction', 'for', 'approximately', '58', 'metres', 'to', 'a', 'point', 'approximately', '216', 'metres', 'east-south-east', 'of', 'the', 'most', 'easterly', 'corner', 'of', 'Unit', '4', 'Foundry', 'Industrial', 'Estate', ',', 'Victoria', 'Street', 'and', 'approximately', '221', 'metres', 'east', 'of', 'the', 'most', 'southerly', 'corner', 'of', 'Unit', '5', 'Foundry', 'Industrial', 'Estate', ',', 'Victoria', 'Street', ',', 'then', 'proceeding', 'in', 'a', 'generally', 'easterly', 'direction', 'for', 'approximately', '45', 'metres', 'to', 'a', 'point', 'approximately', '265', 'metres', 'east-south-east', 'of', 'the', 'most', 'north-easterly', 'corner', 'of', 'Unit', '3', 'Foundry', 'Industrial', 'Estate', ',', 'Victoria', 'Street', 'and', 'approximately', '265', 'metres', 'east', 'of', 'the', 'most', 'southerly', 'corner', 'of', 'Unit', '5', 'Foundry', 'Industrial', 'Estate', ',', 'Victoria', 'Street', ',', 'then', 'proceeding', 'in', 'a', 'generally', 'east-south-east', 'direction', 'for', 'approximately', '102', 'metres', 'to', 'a', 'point', 'approximately', '366', 'metres', 'east-south-east', 'of', 'the', 'most', 'easterly', 'corner', 'of', 'Unit', '3', 'Foundry', 'Industrial', 'Estate', ',', 'Victoria', 'Street', 'and', 'approximately', '463', 'metres', 'east', 'of', 'the', 'most', 'north', 'easterly', 'corner', 'of', '22', 'Ann', 'Street', 'West', ',', 'Widnes', ',', 'then', 'proceeding', 'in', 'a', 'generally', 'north-north-easterly', 'direction', 'for', 'approximately', '19', 'metres', 'to', 'a', 'point', 'approximately', '368', 'metres', 'east-south-east', 'of', 'the', 'most', 'easterly', 'corner', 'of', 'Unit', '3', 'Foundry', 'Industrial', 'Estate', ',', 'Victoria', 'Street', 'and', 'approximately', '512', 'metres', 'east', 'of', 'the', 'most', 'south', 'easterly', 'corner', 'of', '17', 'Batherton', 'Close', ',', 'Widnes', 'then', 'proceeding', 'in', 'a', 'generally', 'east-south', ',', 'easterly', 'direction', 'for', 'approximately', '16', 'metres', 'to', 'a', 'point', 'approximately', '420', 'metres', 'east-south-east', 'of', 'the', 'most', 'southerly', 'corner', 'of', 'Unit', '2', 'Foundry', 'Industrial', 'Estate', ',', 'Victoria', 'Street', 'and', 'approximately', '533', 'metres', 'east', 'of', 'the', 'most', 'south-easterly', 'corner', 'of', '17', 'Batherton', 'Close', ',', 'then', 'proceeding', 'in', 'a', 'generally', 'east-north-easterly', 'direction', 'for', 'approximately', '240', 'metres', 'to', 'a', 'point', 'approximately', '606', 'metres', 'east', 'of', 'the', 'most', 'northerly', 'corner', 'of', 'Unit', '4', 'Foundry', 'Industrial', 'Estate', ',', 'Victoria', 'Street', 'and', 'approximately', '23', 'metres', 'south', 'of', 'the', 'most', 'south', 'westerly', 'corner', 'of', 'the', 'boundary', 'fencing', 'of', 'the', 'scrap', 'metal', 'yard', 'on', 'the', 'south', 'side', 'of', 'Cornubia', 'Road', ',', 'Widnes', ',', 'then', 'proceeding', 'in', 'a', 'generally', 'northern', 'direction', 'for', 'approximately', '44', 'metres', 'to', 'a', 'point', 'approximately', '3', 'metres', 'west-north-west', 'of', 'the', 'most', 'north', 'westerly', 'corner', 'of', 'the', 'boundary', 'fence', 'of', 'the', 'scrap', 'metal', 'yard', 'on', 'the', 'south', 'side', 'of', 'Cornubia', 'Road', 'and', 'approximately', '47', 'metres', 'west-south-west', 'of', 'the', 'stub', 'end', 'of', 'Cornubia', 'Road.I', 'finished', 'the', 'work', 'in', 'less', 'than', 'an', 'hour', '.', 'Did', 'he', 'look', 'like', 'a', 'doctor', '?', 'He', 'ran', 'into', 'debt', '.', 'They', 'concluded', 'that', 'he', 'had', 'told', 'a', 'lie', '.', 'I', 'ran', 'into', 'Mary', 'at', 'the', 'party', 'last', 'week', '.', 'I', 'said', 'nothing', 'about', 'the', 'matter', '.', 'His', 'brother', 'is', 'more', 'patient', 'than', 'he', 'is', '.', 'Tom', 'was', 'caught', 'sneaking', 'out', 'of', 'the', 'room', '.', 'No', 'one', 'stops', 'to', 'listen', 'to', 'him', '.', 'Please', 'wait', 'around', 'for', 'a', 'while', '.', 'There', 'is', 'going', 'to', 'be', 'a', 'storm', '.', 'I', 'clapped', 'my', 'hands', '.', 'I', 'have', 'just', 'finished', 'my', 'homework', '.', 'What', 'do', 'you', 'plan', 'to', 'do', '?', 'I', 'asked', 'him', 'if', 'he', 'knew', 'my', 'name', '.']\n"
          ]
        }
      ]
    },
    {
      "cell_type": "markdown",
      "source": [
        "##Convert to Lowercase"
      ],
      "metadata": {
        "id": "lGRDwG4XjU-X"
      }
    },
    {
      "cell_type": "code",
      "source": [
        "text=newcorpus.raw().strip()\n",
        "text"
      ],
      "metadata": {
        "colab": {
          "base_uri": "https://localhost:8080/",
          "height": 145
        },
        "id": "q59QHc60hEWq",
        "outputId": "44061ff0-dcc1-4e23-8011-8d7eb96828a1"
      },
      "execution_count": null,
      "outputs": [
        {
          "output_type": "execute_result",
          "data": {
            "text/plain": [
              "'A path from a point approximately 330 metres east of the most south westerly corner of 17 Batherton Close, Widnes and approximately 208 metres east-south-east of the most southerly corner of Unit 3 Foundry Industrial Estate, Victoria Street, Widnes, proceeding in a generally east-north-easterly direction for approximately 28 metres to a point approximately 202 metres east-south-east of the most south-easterly corner of Unit 4 Foundry Industrial Estate, Victoria Street, and approximately 347 metres east of the most south-easterly corner of 17 Batherton Close, then proceeding in a generally northerly direction for approximately 21 metres to a point approximately 210 metres east of the most south-easterly corner of Unit 5 Foundry Industrial Estate, Victoria Street, and approximately 202 metres east-south-east of the most north-easterly corner of Unit 4 Foundry Industrial Estate, Victoria Street, then proceeding in a generally east-north-east direction for approximately 64 metres to a point approximately 282 metres east-south-east of the most easterly corner of Unit 2 Foundry Industrial Estate, Victoria Street, Widnes and approximately 259 metres east of the most southerly corner of Unit 4 Foundry Industrial Estate, Victoria Street, then proceeding in a generally east-north-east direction for approximately 350 metres to a point approximately 3 metres west-north-west of the most north westerly corner of the boundary fence of the scrap metal yard on the south side of Cornubia Road, Widnes, and approximately 47 metres west-south-west of the stub end of Cornubia Road be diverted to a 3 metre wide path from a point approximately 183 metres east-south-east of the most easterly corner of Unit 5 Foundry Industrial Estate, Victoria Street and approximately 272 metres east of the most north-easterly corner of 26 Ann Street West, Widnes, then proceeding in a generally north easterly direction for approximately 58 metres to a point approximately 216 metres east-south-east of the most easterly corner of Unit 4 Foundry Industrial Estate, Victoria Street and approximately 221 metres east of the most southerly corner of Unit 5 Foundry Industrial Estate, Victoria Street, then proceeding in a generally easterly direction for approximately 45 metres to a point approximately 265 metres east-south-east of the most north-easterly corner of Unit 3 Foundry Industrial Estate, Victoria Street and approximately 265 metres east of the most southerly corner of Unit 5 Foundry Industrial Estate, Victoria Street, then proceeding in a generally east-south-east direction for approximately 102 metres to a point approximately 366 metres east-south-east of the most easterly corner of Unit 3 Foundry Industrial Estate, Victoria Street and approximately 463 metres east of the most north easterly corner of 22 Ann Street West, Widnes, then proceeding in a generally north-north-easterly direction for approximately 19 metres to a point approximately 368 metres east-south-east of the most easterly corner of Unit 3 Foundry Industrial Estate, Victoria Street and approximately 512 metres east of the most south easterly corner of 17 Batherton Close, Widnes then proceeding in a generally east-south, easterly direction for approximately 16 metres to a point approximately 420 metres east-south-east of the most southerly corner of Unit 2 Foundry Industrial Estate, Victoria Street and approximately 533 metres east of the most south-easterly corner of 17 Batherton Close, then proceeding in a generally east-north-easterly direction for approximately 240 metres to a point approximately 606 metres east of the most northerly corner of Unit 4 Foundry Industrial Estate, Victoria Street and approximately 23 metres south of the most south westerly corner of the boundary fencing of the scrap metal yard on the south side of Cornubia Road, Widnes, then proceeding in a generally northern direction for approximately 44 metres to a point approximately 3 metres west-north-west of the most north westerly corner of the boundary fence of the scrap metal yard on the south side of Cornubia Road and approximately 47 metres west-south-west of the stub end of Cornubia Road.I finished the work in less than an hour.\\r\\nDid he look like a doctor?\\r\\nHe ran into debt.\\r\\nThey concluded that he had told a lie.\\r\\nI ran into Mary at the party last week.\\r\\nI said nothing about the matter.\\r\\nHis brother is more patient than he is.\\r\\nTom was caught sneaking out of the room.\\r\\nNo one stops to listen to him.\\r\\nPlease wait around for a while.\\r\\nThere is going to be a storm. I clapped my hands. I have just finished my homework. What do you plan to do?\\r\\nI asked him if he knew my name.'"
            ],
            "application/vnd.google.colaboratory.intrinsic+json": {
              "type": "string"
            }
          },
          "metadata": {},
          "execution_count": 16
        }
      ]
    },
    {
      "cell_type": "code",
      "source": [
        "text=text.lower()\n",
        "text"
      ],
      "metadata": {
        "colab": {
          "base_uri": "https://localhost:8080/",
          "height": 145
        },
        "id": "95yMuj3RhXIk",
        "outputId": "dd9d869e-eedf-4d54-96e8-006be70d4663"
      },
      "execution_count": null,
      "outputs": [
        {
          "output_type": "execute_result",
          "data": {
            "text/plain": [
              "'a path from a point approximately 330 metres east of the most south westerly corner of 17 batherton close, widnes and approximately 208 metres east-south-east of the most southerly corner of unit 3 foundry industrial estate, victoria street, widnes, proceeding in a generally east-north-easterly direction for approximately 28 metres to a point approximately 202 metres east-south-east of the most south-easterly corner of unit 4 foundry industrial estate, victoria street, and approximately 347 metres east of the most south-easterly corner of 17 batherton close, then proceeding in a generally northerly direction for approximately 21 metres to a point approximately 210 metres east of the most south-easterly corner of unit 5 foundry industrial estate, victoria street, and approximately 202 metres east-south-east of the most north-easterly corner of unit 4 foundry industrial estate, victoria street, then proceeding in a generally east-north-east direction for approximately 64 metres to a point approximately 282 metres east-south-east of the most easterly corner of unit 2 foundry industrial estate, victoria street, widnes and approximately 259 metres east of the most southerly corner of unit 4 foundry industrial estate, victoria street, then proceeding in a generally east-north-east direction for approximately 350 metres to a point approximately 3 metres west-north-west of the most north westerly corner of the boundary fence of the scrap metal yard on the south side of cornubia road, widnes, and approximately 47 metres west-south-west of the stub end of cornubia road be diverted to a 3 metre wide path from a point approximately 183 metres east-south-east of the most easterly corner of unit 5 foundry industrial estate, victoria street and approximately 272 metres east of the most north-easterly corner of 26 ann street west, widnes, then proceeding in a generally north easterly direction for approximately 58 metres to a point approximately 216 metres east-south-east of the most easterly corner of unit 4 foundry industrial estate, victoria street and approximately 221 metres east of the most southerly corner of unit 5 foundry industrial estate, victoria street, then proceeding in a generally easterly direction for approximately 45 metres to a point approximately 265 metres east-south-east of the most north-easterly corner of unit 3 foundry industrial estate, victoria street and approximately 265 metres east of the most southerly corner of unit 5 foundry industrial estate, victoria street, then proceeding in a generally east-south-east direction for approximately 102 metres to a point approximately 366 metres east-south-east of the most easterly corner of unit 3 foundry industrial estate, victoria street and approximately 463 metres east of the most north easterly corner of 22 ann street west, widnes, then proceeding in a generally north-north-easterly direction for approximately 19 metres to a point approximately 368 metres east-south-east of the most easterly corner of unit 3 foundry industrial estate, victoria street and approximately 512 metres east of the most south easterly corner of 17 batherton close, widnes then proceeding in a generally east-south, easterly direction for approximately 16 metres to a point approximately 420 metres east-south-east of the most southerly corner of unit 2 foundry industrial estate, victoria street and approximately 533 metres east of the most south-easterly corner of 17 batherton close, then proceeding in a generally east-north-easterly direction for approximately 240 metres to a point approximately 606 metres east of the most northerly corner of unit 4 foundry industrial estate, victoria street and approximately 23 metres south of the most south westerly corner of the boundary fencing of the scrap metal yard on the south side of cornubia road, widnes, then proceeding in a generally northern direction for approximately 44 metres to a point approximately 3 metres west-north-west of the most north westerly corner of the boundary fence of the scrap metal yard on the south side of cornubia road and approximately 47 metres west-south-west of the stub end of cornubia road.i finished the work in less than an hour.\\r\\ndid he look like a doctor?\\r\\nhe ran into debt.\\r\\nthey concluded that he had told a lie.\\r\\ni ran into mary at the party last week.\\r\\ni said nothing about the matter.\\r\\nhis brother is more patient than he is.\\r\\ntom was caught sneaking out of the room.\\r\\nno one stops to listen to him.\\r\\nplease wait around for a while.\\r\\nthere is going to be a storm. i clapped my hands. i have just finished my homework. what do you plan to do?\\r\\ni asked him if he knew my name.'"
            ],
            "application/vnd.google.colaboratory.intrinsic+json": {
              "type": "string"
            }
          },
          "metadata": {},
          "execution_count": 17
        }
      ]
    },
    {
      "cell_type": "markdown",
      "source": [
        "##Stop Words Removal"
      ],
      "metadata": {
        "id": "EQhZwONRjhLO"
      }
    },
    {
      "cell_type": "code",
      "source": [
        "from nltk.corpus import stopwords\n",
        "stopword = stopwords.words('english')\n",
        "word_tokens = nltk.word_tokenize(text)\n",
        "removing_stopwords = [word for word in word_tokens if word not in stopword]\n",
        "print (removing_stopwords)"
      ],
      "metadata": {
        "colab": {
          "base_uri": "https://localhost:8080/"
        },
        "id": "7VuwuZ3-hojf",
        "outputId": "7e4fe0d5-62cc-4a11-81b0-437866ca1d27"
      },
      "execution_count": null,
      "outputs": [
        {
          "output_type": "stream",
          "name": "stdout",
          "text": [
            "['path', 'point', 'approximately', '330', 'metres', 'east', 'south', 'westerly', 'corner', '17', 'batherton', 'close', ',', 'widnes', 'approximately', '208', 'metres', 'east-south-east', 'southerly', 'corner', 'unit', '3', 'foundry', 'industrial', 'estate', ',', 'victoria', 'street', ',', 'widnes', ',', 'proceeding', 'generally', 'east-north-easterly', 'direction', 'approximately', '28', 'metres', 'point', 'approximately', '202', 'metres', 'east-south-east', 'south-easterly', 'corner', 'unit', '4', 'foundry', 'industrial', 'estate', ',', 'victoria', 'street', ',', 'approximately', '347', 'metres', 'east', 'south-easterly', 'corner', '17', 'batherton', 'close', ',', 'proceeding', 'generally', 'northerly', 'direction', 'approximately', '21', 'metres', 'point', 'approximately', '210', 'metres', 'east', 'south-easterly', 'corner', 'unit', '5', 'foundry', 'industrial', 'estate', ',', 'victoria', 'street', ',', 'approximately', '202', 'metres', 'east-south-east', 'north-easterly', 'corner', 'unit', '4', 'foundry', 'industrial', 'estate', ',', 'victoria', 'street', ',', 'proceeding', 'generally', 'east-north-east', 'direction', 'approximately', '64', 'metres', 'point', 'approximately', '282', 'metres', 'east-south-east', 'easterly', 'corner', 'unit', '2', 'foundry', 'industrial', 'estate', ',', 'victoria', 'street', ',', 'widnes', 'approximately', '259', 'metres', 'east', 'southerly', 'corner', 'unit', '4', 'foundry', 'industrial', 'estate', ',', 'victoria', 'street', ',', 'proceeding', 'generally', 'east-north-east', 'direction', 'approximately', '350', 'metres', 'point', 'approximately', '3', 'metres', 'west-north-west', 'north', 'westerly', 'corner', 'boundary', 'fence', 'scrap', 'metal', 'yard', 'south', 'side', 'cornubia', 'road', ',', 'widnes', ',', 'approximately', '47', 'metres', 'west-south-west', 'stub', 'end', 'cornubia', 'road', 'diverted', '3', 'metre', 'wide', 'path', 'point', 'approximately', '183', 'metres', 'east-south-east', 'easterly', 'corner', 'unit', '5', 'foundry', 'industrial', 'estate', ',', 'victoria', 'street', 'approximately', '272', 'metres', 'east', 'north-easterly', 'corner', '26', 'ann', 'street', 'west', ',', 'widnes', ',', 'proceeding', 'generally', 'north', 'easterly', 'direction', 'approximately', '58', 'metres', 'point', 'approximately', '216', 'metres', 'east-south-east', 'easterly', 'corner', 'unit', '4', 'foundry', 'industrial', 'estate', ',', 'victoria', 'street', 'approximately', '221', 'metres', 'east', 'southerly', 'corner', 'unit', '5', 'foundry', 'industrial', 'estate', ',', 'victoria', 'street', ',', 'proceeding', 'generally', 'easterly', 'direction', 'approximately', '45', 'metres', 'point', 'approximately', '265', 'metres', 'east-south-east', 'north-easterly', 'corner', 'unit', '3', 'foundry', 'industrial', 'estate', ',', 'victoria', 'street', 'approximately', '265', 'metres', 'east', 'southerly', 'corner', 'unit', '5', 'foundry', 'industrial', 'estate', ',', 'victoria', 'street', ',', 'proceeding', 'generally', 'east-south-east', 'direction', 'approximately', '102', 'metres', 'point', 'approximately', '366', 'metres', 'east-south-east', 'easterly', 'corner', 'unit', '3', 'foundry', 'industrial', 'estate', ',', 'victoria', 'street', 'approximately', '463', 'metres', 'east', 'north', 'easterly', 'corner', '22', 'ann', 'street', 'west', ',', 'widnes', ',', 'proceeding', 'generally', 'north-north-easterly', 'direction', 'approximately', '19', 'metres', 'point', 'approximately', '368', 'metres', 'east-south-east', 'easterly', 'corner', 'unit', '3', 'foundry', 'industrial', 'estate', ',', 'victoria', 'street', 'approximately', '512', 'metres', 'east', 'south', 'easterly', 'corner', '17', 'batherton', 'close', ',', 'widnes', 'proceeding', 'generally', 'east-south', ',', 'easterly', 'direction', 'approximately', '16', 'metres', 'point', 'approximately', '420', 'metres', 'east-south-east', 'southerly', 'corner', 'unit', '2', 'foundry', 'industrial', 'estate', ',', 'victoria', 'street', 'approximately', '533', 'metres', 'east', 'south-easterly', 'corner', '17', 'batherton', 'close', ',', 'proceeding', 'generally', 'east-north-easterly', 'direction', 'approximately', '240', 'metres', 'point', 'approximately', '606', 'metres', 'east', 'northerly', 'corner', 'unit', '4', 'foundry', 'industrial', 'estate', ',', 'victoria', 'street', 'approximately', '23', 'metres', 'south', 'south', 'westerly', 'corner', 'boundary', 'fencing', 'scrap', 'metal', 'yard', 'south', 'side', 'cornubia', 'road', ',', 'widnes', ',', 'proceeding', 'generally', 'northern', 'direction', 'approximately', '44', 'metres', 'point', 'approximately', '3', 'metres', 'west-north-west', 'north', 'westerly', 'corner', 'boundary', 'fence', 'scrap', 'metal', 'yard', 'south', 'side', 'cornubia', 'road', 'approximately', '47', 'metres', 'west-south-west', 'stub', 'end', 'cornubia', 'road.i', 'finished', 'work', 'less', 'hour', '.', 'look', 'like', 'doctor', '?', 'ran', 'debt', '.', 'concluded', 'told', 'lie', '.', 'ran', 'mary', 'party', 'last', 'week', '.', 'said', 'nothing', 'matter', '.', 'brother', 'patient', '.', 'tom', 'caught', 'sneaking', 'room', '.', 'one', 'stops', 'listen', '.', 'please', 'wait', 'around', '.', 'going', 'storm', '.', 'clapped', 'hands', '.', 'finished', 'homework', '.', 'plan', '?', 'asked', 'knew', 'name', '.']\n"
          ]
        }
      ]
    },
    {
      "cell_type": "markdown",
      "source": [
        "##Stemming (Porter Stemmer Algorithm)"
      ],
      "metadata": {
        "id": "hcjUR8paiMjc"
      }
    },
    {
      "cell_type": "code",
      "source": [
        "from nltk.stem import SnowballStemmer\n",
        "stopword = stopwords.words('english')\n",
        "snowball_stemmer = SnowballStemmer('english')\n",
        "word_tokens = nltk.word_tokenize(text)\n",
        "stemmed_word = [snowball_stemmer.stem(word) for word in word_tokens]\n",
        "print (stemmed_word)"
      ],
      "metadata": {
        "id": "d4NX9kc1iOdR",
        "colab": {
          "base_uri": "https://localhost:8080/"
        },
        "outputId": "d3031a71-9a49-425b-c03f-7d73365695c7"
      },
      "execution_count": null,
      "outputs": [
        {
          "output_type": "stream",
          "name": "stdout",
          "text": [
            "['a', 'path', 'from', 'a', 'point', 'approxim', '330', 'metr', 'east', 'of', 'the', 'most', 'south', 'wester', 'corner', 'of', '17', 'batherton', 'close', ',', 'widn', 'and', 'approxim', '208', 'metr', 'east-south-east', 'of', 'the', 'most', 'souther', 'corner', 'of', 'unit', '3', 'foundri', 'industri', 'estat', ',', 'victoria', 'street', ',', 'widn', ',', 'proceed', 'in', 'a', 'general', 'east-north-east', 'direct', 'for', 'approxim', '28', 'metr', 'to', 'a', 'point', 'approxim', '202', 'metr', 'east-south-east', 'of', 'the', 'most', 'south-east', 'corner', 'of', 'unit', '4', 'foundri', 'industri', 'estat', ',', 'victoria', 'street', ',', 'and', 'approxim', '347', 'metr', 'east', 'of', 'the', 'most', 'south-east', 'corner', 'of', '17', 'batherton', 'close', ',', 'then', 'proceed', 'in', 'a', 'general', 'norther', 'direct', 'for', 'approxim', '21', 'metr', 'to', 'a', 'point', 'approxim', '210', 'metr', 'east', 'of', 'the', 'most', 'south-east', 'corner', 'of', 'unit', '5', 'foundri', 'industri', 'estat', ',', 'victoria', 'street', ',', 'and', 'approxim', '202', 'metr', 'east-south-east', 'of', 'the', 'most', 'north-east', 'corner', 'of', 'unit', '4', 'foundri', 'industri', 'estat', ',', 'victoria', 'street', ',', 'then', 'proceed', 'in', 'a', 'general', 'east-north-east', 'direct', 'for', 'approxim', '64', 'metr', 'to', 'a', 'point', 'approxim', '282', 'metr', 'east-south-east', 'of', 'the', 'most', 'easter', 'corner', 'of', 'unit', '2', 'foundri', 'industri', 'estat', ',', 'victoria', 'street', ',', 'widn', 'and', 'approxim', '259', 'metr', 'east', 'of', 'the', 'most', 'souther', 'corner', 'of', 'unit', '4', 'foundri', 'industri', 'estat', ',', 'victoria', 'street', ',', 'then', 'proceed', 'in', 'a', 'general', 'east-north-east', 'direct', 'for', 'approxim', '350', 'metr', 'to', 'a', 'point', 'approxim', '3', 'metr', 'west-north-west', 'of', 'the', 'most', 'north', 'wester', 'corner', 'of', 'the', 'boundari', 'fenc', 'of', 'the', 'scrap', 'metal', 'yard', 'on', 'the', 'south', 'side', 'of', 'cornubia', 'road', ',', 'widn', ',', 'and', 'approxim', '47', 'metr', 'west-south-west', 'of', 'the', 'stub', 'end', 'of', 'cornubia', 'road', 'be', 'divert', 'to', 'a', '3', 'metr', 'wide', 'path', 'from', 'a', 'point', 'approxim', '183', 'metr', 'east-south-east', 'of', 'the', 'most', 'easter', 'corner', 'of', 'unit', '5', 'foundri', 'industri', 'estat', ',', 'victoria', 'street', 'and', 'approxim', '272', 'metr', 'east', 'of', 'the', 'most', 'north-east', 'corner', 'of', '26', 'ann', 'street', 'west', ',', 'widn', ',', 'then', 'proceed', 'in', 'a', 'general', 'north', 'easter', 'direct', 'for', 'approxim', '58', 'metr', 'to', 'a', 'point', 'approxim', '216', 'metr', 'east-south-east', 'of', 'the', 'most', 'easter', 'corner', 'of', 'unit', '4', 'foundri', 'industri', 'estat', ',', 'victoria', 'street', 'and', 'approxim', '221', 'metr', 'east', 'of', 'the', 'most', 'souther', 'corner', 'of', 'unit', '5', 'foundri', 'industri', 'estat', ',', 'victoria', 'street', ',', 'then', 'proceed', 'in', 'a', 'general', 'easter', 'direct', 'for', 'approxim', '45', 'metr', 'to', 'a', 'point', 'approxim', '265', 'metr', 'east-south-east', 'of', 'the', 'most', 'north-east', 'corner', 'of', 'unit', '3', 'foundri', 'industri', 'estat', ',', 'victoria', 'street', 'and', 'approxim', '265', 'metr', 'east', 'of', 'the', 'most', 'souther', 'corner', 'of', 'unit', '5', 'foundri', 'industri', 'estat', ',', 'victoria', 'street', ',', 'then', 'proceed', 'in', 'a', 'general', 'east-south-east', 'direct', 'for', 'approxim', '102', 'metr', 'to', 'a', 'point', 'approxim', '366', 'metr', 'east-south-east', 'of', 'the', 'most', 'easter', 'corner', 'of', 'unit', '3', 'foundri', 'industri', 'estat', ',', 'victoria', 'street', 'and', 'approxim', '463', 'metr', 'east', 'of', 'the', 'most', 'north', 'easter', 'corner', 'of', '22', 'ann', 'street', 'west', ',', 'widn', ',', 'then', 'proceed', 'in', 'a', 'general', 'north-north-east', 'direct', 'for', 'approxim', '19', 'metr', 'to', 'a', 'point', 'approxim', '368', 'metr', 'east-south-east', 'of', 'the', 'most', 'easter', 'corner', 'of', 'unit', '3', 'foundri', 'industri', 'estat', ',', 'victoria', 'street', 'and', 'approxim', '512', 'metr', 'east', 'of', 'the', 'most', 'south', 'easter', 'corner', 'of', '17', 'batherton', 'close', ',', 'widn', 'then', 'proceed', 'in', 'a', 'general', 'east-south', ',', 'easter', 'direct', 'for', 'approxim', '16', 'metr', 'to', 'a', 'point', 'approxim', '420', 'metr', 'east-south-east', 'of', 'the', 'most', 'souther', 'corner', 'of', 'unit', '2', 'foundri', 'industri', 'estat', ',', 'victoria', 'street', 'and', 'approxim', '533', 'metr', 'east', 'of', 'the', 'most', 'south-east', 'corner', 'of', '17', 'batherton', 'close', ',', 'then', 'proceed', 'in', 'a', 'general', 'east-north-east', 'direct', 'for', 'approxim', '240', 'metr', 'to', 'a', 'point', 'approxim', '606', 'metr', 'east', 'of', 'the', 'most', 'norther', 'corner', 'of', 'unit', '4', 'foundri', 'industri', 'estat', ',', 'victoria', 'street', 'and', 'approxim', '23', 'metr', 'south', 'of', 'the', 'most', 'south', 'wester', 'corner', 'of', 'the', 'boundari', 'fenc', 'of', 'the', 'scrap', 'metal', 'yard', 'on', 'the', 'south', 'side', 'of', 'cornubia', 'road', ',', 'widn', ',', 'then', 'proceed', 'in', 'a', 'general', 'northern', 'direct', 'for', 'approxim', '44', 'metr', 'to', 'a', 'point', 'approxim', '3', 'metr', 'west-north-west', 'of', 'the', 'most', 'north', 'wester', 'corner', 'of', 'the', 'boundari', 'fenc', 'of', 'the', 'scrap', 'metal', 'yard', 'on', 'the', 'south', 'side', 'of', 'cornubia', 'road', 'and', 'approxim', '47', 'metr', 'west-south-west', 'of', 'the', 'stub', 'end', 'of', 'cornubia', 'road.i', 'finish', 'the', 'work', 'in', 'less', 'than', 'an', 'hour', '.', 'did', 'he', 'look', 'like', 'a', 'doctor', '?', 'he', 'ran', 'into', 'debt', '.', 'they', 'conclud', 'that', 'he', 'had', 'told', 'a', 'lie', '.', 'i', 'ran', 'into', 'mari', 'at', 'the', 'parti', 'last', 'week', '.', 'i', 'said', 'noth', 'about', 'the', 'matter', '.', 'his', 'brother', 'is', 'more', 'patient', 'than', 'he', 'is', '.', 'tom', 'was', 'caught', 'sneak', 'out', 'of', 'the', 'room', '.', 'no', 'one', 'stop', 'to', 'listen', 'to', 'him', '.', 'pleas', 'wait', 'around', 'for', 'a', 'while', '.', 'there', 'is', 'go', 'to', 'be', 'a', 'storm', '.', 'i', 'clap', 'my', 'hand', '.', 'i', 'have', 'just', 'finish', 'my', 'homework', '.', 'what', 'do', 'you', 'plan', 'to', 'do', '?', 'i', 'ask', 'him', 'if', 'he', 'knew', 'my', 'name', '.']\n"
          ]
        }
      ]
    },
    {
      "cell_type": "markdown",
      "source": [
        "##Lemmatization"
      ],
      "metadata": {
        "id": "5tt7da1plWaZ"
      }
    },
    {
      "cell_type": "code",
      "source": [
        "from nltk.stem import WordNetLemmatizer\n",
        "stopword = stopwords.words('english')\n",
        "wordnet_lemmatizer = WordNetLemmatizer()\n",
        "word_tokens = nltk.word_tokenize(text)\n",
        "lemmatized_word = [wordnet_lemmatizer.lemmatize(word) for word in word_tokens]\n",
        "print (lemmatized_word)"
      ],
      "metadata": {
        "colab": {
          "base_uri": "https://localhost:8080/"
        },
        "id": "enJ2etzKlHrn",
        "outputId": "1cb0b36f-e7d4-4fde-b3be-34a86e232903"
      },
      "execution_count": null,
      "outputs": [
        {
          "output_type": "stream",
          "name": "stdout",
          "text": [
            "['A', 'path', 'from', 'a', 'point', 'approximately', '330', 'metre', 'east', 'of', 'the', 'most', 'south', 'westerly', 'corner', 'of', '17', 'Batherton', 'Close', ',', 'Widnes', 'and', 'approximately', '208', 'metre', 'east-south-east', 'of', 'the', 'most', 'southerly', 'corner', 'of', 'Unit', '3', 'Foundry', 'Industrial', 'Estate', ',', 'Victoria', 'Street', ',', 'Widnes', ',', 'proceeding', 'in', 'a', 'generally', 'east-north-easterly', 'direction', 'for', 'approximately', '28', 'metre', 'to', 'a', 'point', 'approximately', '202', 'metre', 'east-south-east', 'of', 'the', 'most', 'south-easterly', 'corner', 'of', 'Unit', '4', 'Foundry', 'Industrial', 'Estate', ',', 'Victoria', 'Street', ',', 'and', 'approximately', '347', 'metre', 'east', 'of', 'the', 'most', 'south-easterly', 'corner', 'of', '17', 'Batherton', 'Close', ',', 'then', 'proceeding', 'in', 'a', 'generally', 'northerly', 'direction', 'for', 'approximately', '21', 'metre', 'to', 'a', 'point', 'approximately', '210', 'metre', 'east', 'of', 'the', 'most', 'south-easterly', 'corner', 'of', 'Unit', '5', 'Foundry', 'Industrial', 'Estate', ',', 'Victoria', 'Street', ',', 'and', 'approximately', '202', 'metre', 'east-south-east', 'of', 'the', 'most', 'north-easterly', 'corner', 'of', 'Unit', '4', 'Foundry', 'Industrial', 'Estate', ',', 'Victoria', 'Street', ',', 'then', 'proceeding', 'in', 'a', 'generally', 'east-north-east', 'direction', 'for', 'approximately', '64', 'metre', 'to', 'a', 'point', 'approximately', '282', 'metre', 'east-south-east', 'of', 'the', 'most', 'easterly', 'corner', 'of', 'Unit', '2', 'Foundry', 'Industrial', 'Estate', ',', 'Victoria', 'Street', ',', 'Widnes', 'and', 'approximately', '259', 'metre', 'east', 'of', 'the', 'most', 'southerly', 'corner', 'of', 'Unit', '4', 'Foundry', 'Industrial', 'Estate', ',', 'Victoria', 'Street', ',', 'then', 'proceeding', 'in', 'a', 'generally', 'east-north-east', 'direction', 'for', 'approximately', '350', 'metre', 'to', 'a', 'point', 'approximately', '3', 'metre', 'west-north-west', 'of', 'the', 'most', 'north', 'westerly', 'corner', 'of', 'the', 'boundary', 'fence', 'of', 'the', 'scrap', 'metal', 'yard', 'on', 'the', 'south', 'side', 'of', 'Cornubia', 'Road', ',', 'Widnes', ',', 'and', 'approximately', '47', 'metre', 'west-south-west', 'of', 'the', 'stub', 'end', 'of', 'Cornubia', 'Road', 'be', 'diverted', 'to', 'a', '3', 'metre', 'wide', 'path', 'from', 'a', 'point', 'approximately', '183', 'metre', 'east-south-east', 'of', 'the', 'most', 'easterly', 'corner', 'of', 'Unit', '5', 'Foundry', 'Industrial', 'Estate', ',', 'Victoria', 'Street', 'and', 'approximately', '272', 'metre', 'east', 'of', 'the', 'most', 'north-easterly', 'corner', 'of', '26', 'Ann', 'Street', 'West', ',', 'Widnes', ',', 'then', 'proceeding', 'in', 'a', 'generally', 'north', 'easterly', 'direction', 'for', 'approximately', '58', 'metre', 'to', 'a', 'point', 'approximately', '216', 'metre', 'east-south-east', 'of', 'the', 'most', 'easterly', 'corner', 'of', 'Unit', '4', 'Foundry', 'Industrial', 'Estate', ',', 'Victoria', 'Street', 'and', 'approximately', '221', 'metre', 'east', 'of', 'the', 'most', 'southerly', 'corner', 'of', 'Unit', '5', 'Foundry', 'Industrial', 'Estate', ',', 'Victoria', 'Street', ',', 'then', 'proceeding', 'in', 'a', 'generally', 'easterly', 'direction', 'for', 'approximately', '45', 'metre', 'to', 'a', 'point', 'approximately', '265', 'metre', 'east-south-east', 'of', 'the', 'most', 'north-easterly', 'corner', 'of', 'Unit', '3', 'Foundry', 'Industrial', 'Estate', ',', 'Victoria', 'Street', 'and', 'approximately', '265', 'metre', 'east', 'of', 'the', 'most', 'southerly', 'corner', 'of', 'Unit', '5', 'Foundry', 'Industrial', 'Estate', ',', 'Victoria', 'Street', ',', 'then', 'proceeding', 'in', 'a', 'generally', 'east-south-east', 'direction', 'for', 'approximately', '102', 'metre', 'to', 'a', 'point', 'approximately', '366', 'metre', 'east-south-east', 'of', 'the', 'most', 'easterly', 'corner', 'of', 'Unit', '3', 'Foundry', 'Industrial', 'Estate', ',', 'Victoria', 'Street', 'and', 'approximately', '463', 'metre', 'east', 'of', 'the', 'most', 'north', 'easterly', 'corner', 'of', '22', 'Ann', 'Street', 'West', ',', 'Widnes', ',', 'then', 'proceeding', 'in', 'a', 'generally', 'north-north-easterly', 'direction', 'for', 'approximately', '19', 'metre', 'to', 'a', 'point', 'approximately', '368', 'metre', 'east-south-east', 'of', 'the', 'most', 'easterly', 'corner', 'of', 'Unit', '3', 'Foundry', 'Industrial', 'Estate', ',', 'Victoria', 'Street', 'and', 'approximately', '512', 'metre', 'east', 'of', 'the', 'most', 'south', 'easterly', 'corner', 'of', '17', 'Batherton', 'Close', ',', 'Widnes', 'then', 'proceeding', 'in', 'a', 'generally', 'east-south', ',', 'easterly', 'direction', 'for', 'approximately', '16', 'metre', 'to', 'a', 'point', 'approximately', '420', 'metre', 'east-south-east', 'of', 'the', 'most', 'southerly', 'corner', 'of', 'Unit', '2', 'Foundry', 'Industrial', 'Estate', ',', 'Victoria', 'Street', 'and', 'approximately', '533', 'metre', 'east', 'of', 'the', 'most', 'south-easterly', 'corner', 'of', '17', 'Batherton', 'Close', ',', 'then', 'proceeding', 'in', 'a', 'generally', 'east-north-easterly', 'direction', 'for', 'approximately', '240', 'metre', 'to', 'a', 'point', 'approximately', '606', 'metre', 'east', 'of', 'the', 'most', 'northerly', 'corner', 'of', 'Unit', '4', 'Foundry', 'Industrial', 'Estate', ',', 'Victoria', 'Street', 'and', 'approximately', '23', 'metre', 'south', 'of', 'the', 'most', 'south', 'westerly', 'corner', 'of', 'the', 'boundary', 'fencing', 'of', 'the', 'scrap', 'metal', 'yard', 'on', 'the', 'south', 'side', 'of', 'Cornubia', 'Road', ',', 'Widnes', ',', 'then', 'proceeding', 'in', 'a', 'generally', 'northern', 'direction', 'for', 'approximately', '44', 'metre', 'to', 'a', 'point', 'approximately', '3', 'metre', 'west-north-west', 'of', 'the', 'most', 'north', 'westerly', 'corner', 'of', 'the', 'boundary', 'fence', 'of', 'the', 'scrap', 'metal', 'yard', 'on', 'the', 'south', 'side', 'of', 'Cornubia', 'Road', 'and', 'approximately', '47', 'metre', 'west-south-west', 'of', 'the', 'stub', 'end', 'of', 'Cornubia', 'Road.I', 'finished', 'the', 'work', 'in', 'le', 'than', 'an', 'hour', '.', 'Did', 'he', 'look', 'like', 'a', 'doctor', '?', 'He', 'ran', 'into', 'debt', '.', 'They', 'concluded', 'that', 'he', 'had', 'told', 'a', 'lie', '.', 'I', 'ran', 'into', 'Mary', 'at', 'the', 'party', 'last', 'week', '.', 'I', 'said', 'nothing', 'about', 'the', 'matter', '.', 'His', 'brother', 'is', 'more', 'patient', 'than', 'he', 'is', '.', 'Tom', 'wa', 'caught', 'sneaking', 'out', 'of', 'the', 'room', '.', 'No', 'one', 'stop', 'to', 'listen', 'to', 'him', '.', 'Please', 'wait', 'around', 'for', 'a', 'while', '.', 'There', 'is', 'going', 'to', 'be', 'a', 'storm', '.', 'I', 'clapped', 'my', 'hand', '.', 'I', 'have', 'just', 'finished', 'my', 'homework', '.', 'What', 'do', 'you', 'plan', 'to', 'do', '?', 'I', 'asked', 'him', 'if', 'he', 'knew', 'my', 'name', '.']\n"
          ]
        }
      ]
    },
    {
      "cell_type": "markdown",
      "source": [
        "##POS Tagging"
      ],
      "metadata": {
        "id": "VAGnd4FzmByb"
      }
    },
    {
      "cell_type": "code",
      "source": [
        "word = nltk.word_tokenize(text)\n",
        "pos_tag = nltk.pos_tag(word)\n",
        "print (pos_tag)"
      ],
      "metadata": {
        "colab": {
          "base_uri": "https://localhost:8080/"
        },
        "id": "oCYQpf9imDyj",
        "outputId": "5f512cb1-814b-4236-bd64-c02795301abd"
      },
      "execution_count": null,
      "outputs": [
        {
          "output_type": "stream",
          "name": "stdout",
          "text": [
            "[('A', 'DT'), ('path', 'NN'), ('from', 'IN'), ('a', 'DT'), ('point', 'NN'), ('approximately', 'RB'), ('330', 'CD'), ('metres', 'NNS'), ('east', 'RB'), ('of', 'IN'), ('the', 'DT'), ('most', 'RBS'), ('south', 'JJ'), ('westerly', 'JJ'), ('corner', 'NN'), ('of', 'IN'), ('17', 'CD'), ('Batherton', 'NNP'), ('Close', 'NNP'), (',', ','), ('Widnes', 'NNP'), ('and', 'CC'), ('approximately', 'RB'), ('208', 'CD'), ('metres', 'NNS'), ('east-south-east', 'JJ'), ('of', 'IN'), ('the', 'DT'), ('most', 'RBS'), ('southerly', 'JJ'), ('corner', 'NN'), ('of', 'IN'), ('Unit', 'NNP'), ('3', 'CD'), ('Foundry', 'NNP'), ('Industrial', 'NNP'), ('Estate', 'NNP'), (',', ','), ('Victoria', 'NNP'), ('Street', 'NNP'), (',', ','), ('Widnes', 'NNP'), (',', ','), ('proceeding', 'VBG'), ('in', 'IN'), ('a', 'DT'), ('generally', 'RB'), ('east-north-easterly', 'JJ'), ('direction', 'NN'), ('for', 'IN'), ('approximately', 'RB'), ('28', 'CD'), ('metres', 'NNS'), ('to', 'TO'), ('a', 'DT'), ('point', 'NN'), ('approximately', 'RB'), ('202', 'CD'), ('metres', 'NNS'), ('east-south-east', 'JJ'), ('of', 'IN'), ('the', 'DT'), ('most', 'RBS'), ('south-easterly', 'JJ'), ('corner', 'NN'), ('of', 'IN'), ('Unit', 'NNP'), ('4', 'CD'), ('Foundry', 'NNP'), ('Industrial', 'NNP'), ('Estate', 'NNP'), (',', ','), ('Victoria', 'NNP'), ('Street', 'NNP'), (',', ','), ('and', 'CC'), ('approximately', 'RB'), ('347', 'CD'), ('metres', 'NNS'), ('east', 'RB'), ('of', 'IN'), ('the', 'DT'), ('most', 'RBS'), ('south-easterly', 'JJ'), ('corner', 'NN'), ('of', 'IN'), ('17', 'CD'), ('Batherton', 'NNP'), ('Close', 'NNP'), (',', ','), ('then', 'RB'), ('proceeding', 'VBG'), ('in', 'IN'), ('a', 'DT'), ('generally', 'RB'), ('northerly', 'JJ'), ('direction', 'NN'), ('for', 'IN'), ('approximately', 'RB'), ('21', 'CD'), ('metres', 'NNS'), ('to', 'TO'), ('a', 'DT'), ('point', 'NN'), ('approximately', 'RB'), ('210', 'CD'), ('metres', 'NNS'), ('east', 'RB'), ('of', 'IN'), ('the', 'DT'), ('most', 'RBS'), ('south-easterly', 'JJ'), ('corner', 'NN'), ('of', 'IN'), ('Unit', 'NNP'), ('5', 'CD'), ('Foundry', 'NNP'), ('Industrial', 'NNP'), ('Estate', 'NNP'), (',', ','), ('Victoria', 'NNP'), ('Street', 'NNP'), (',', ','), ('and', 'CC'), ('approximately', 'RB'), ('202', 'CD'), ('metres', 'NNS'), ('east-south-east', 'JJ'), ('of', 'IN'), ('the', 'DT'), ('most', 'RBS'), ('north-easterly', 'JJ'), ('corner', 'NN'), ('of', 'IN'), ('Unit', 'NNP'), ('4', 'CD'), ('Foundry', 'NNP'), ('Industrial', 'NNP'), ('Estate', 'NNP'), (',', ','), ('Victoria', 'NNP'), ('Street', 'NNP'), (',', ','), ('then', 'RB'), ('proceeding', 'VBG'), ('in', 'IN'), ('a', 'DT'), ('generally', 'RB'), ('east-north-east', 'JJ'), ('direction', 'NN'), ('for', 'IN'), ('approximately', 'RB'), ('64', 'CD'), ('metres', 'NNS'), ('to', 'TO'), ('a', 'DT'), ('point', 'NN'), ('approximately', 'RB'), ('282', 'CD'), ('metres', 'NNS'), ('east-south-east', 'JJ'), ('of', 'IN'), ('the', 'DT'), ('most', 'RBS'), ('easterly', 'JJ'), ('corner', 'NN'), ('of', 'IN'), ('Unit', 'NNP'), ('2', 'CD'), ('Foundry', 'NNP'), ('Industrial', 'NNP'), ('Estate', 'NNP'), (',', ','), ('Victoria', 'NNP'), ('Street', 'NNP'), (',', ','), ('Widnes', 'NNP'), ('and', 'CC'), ('approximately', 'RB'), ('259', 'CD'), ('metres', 'NNS'), ('east', 'RB'), ('of', 'IN'), ('the', 'DT'), ('most', 'RBS'), ('southerly', 'JJ'), ('corner', 'NN'), ('of', 'IN'), ('Unit', 'NNP'), ('4', 'CD'), ('Foundry', 'NNP'), ('Industrial', 'NNP'), ('Estate', 'NNP'), (',', ','), ('Victoria', 'NNP'), ('Street', 'NNP'), (',', ','), ('then', 'RB'), ('proceeding', 'VBG'), ('in', 'IN'), ('a', 'DT'), ('generally', 'RB'), ('east-north-east', 'JJ'), ('direction', 'NN'), ('for', 'IN'), ('approximately', 'RB'), ('350', 'CD'), ('metres', 'NNS'), ('to', 'TO'), ('a', 'DT'), ('point', 'NN'), ('approximately', 'RB'), ('3', 'CD'), ('metres', 'NNS'), ('west-north-west', 'CD'), ('of', 'IN'), ('the', 'DT'), ('most', 'RBS'), ('north', 'JJ'), ('westerly', 'JJ'), ('corner', 'NN'), ('of', 'IN'), ('the', 'DT'), ('boundary', 'JJ'), ('fence', 'NN'), ('of', 'IN'), ('the', 'DT'), ('scrap', 'NN'), ('metal', 'NN'), ('yard', 'NN'), ('on', 'IN'), ('the', 'DT'), ('south', 'JJ'), ('side', 'NN'), ('of', 'IN'), ('Cornubia', 'NNP'), ('Road', 'NNP'), (',', ','), ('Widnes', 'NNP'), (',', ','), ('and', 'CC'), ('approximately', 'RB'), ('47', 'CD'), ('metres', 'NNS'), ('west-south-west', 'CD'), ('of', 'IN'), ('the', 'DT'), ('stub', 'JJ'), ('end', 'NN'), ('of', 'IN'), ('Cornubia', 'NNP'), ('Road', 'NNP'), ('be', 'VB'), ('diverted', 'VBN'), ('to', 'TO'), ('a', 'DT'), ('3', 'CD'), ('metre', 'NN'), ('wide', 'JJ'), ('path', 'NN'), ('from', 'IN'), ('a', 'DT'), ('point', 'NN'), ('approximately', 'RB'), ('183', 'CD'), ('metres', 'NNS'), ('east-south-east', 'JJ'), ('of', 'IN'), ('the', 'DT'), ('most', 'RBS'), ('easterly', 'JJ'), ('corner', 'NN'), ('of', 'IN'), ('Unit', 'NNP'), ('5', 'CD'), ('Foundry', 'NNP'), ('Industrial', 'NNP'), ('Estate', 'NNP'), (',', ','), ('Victoria', 'NNP'), ('Street', 'NNP'), ('and', 'CC'), ('approximately', 'RB'), ('272', 'CD'), ('metres', 'NNS'), ('east', 'RB'), ('of', 'IN'), ('the', 'DT'), ('most', 'RBS'), ('north-easterly', 'JJ'), ('corner', 'NN'), ('of', 'IN'), ('26', 'CD'), ('Ann', 'NNP'), ('Street', 'NNP'), ('West', 'NNP'), (',', ','), ('Widnes', 'NNP'), (',', ','), ('then', 'RB'), ('proceeding', 'VBG'), ('in', 'IN'), ('a', 'DT'), ('generally', 'RB'), ('north', 'JJ'), ('easterly', 'JJ'), ('direction', 'NN'), ('for', 'IN'), ('approximately', 'RB'), ('58', 'CD'), ('metres', 'NNS'), ('to', 'TO'), ('a', 'DT'), ('point', 'NN'), ('approximately', 'RB'), ('216', 'CD'), ('metres', 'NNS'), ('east-south-east', 'JJ'), ('of', 'IN'), ('the', 'DT'), ('most', 'RBS'), ('easterly', 'JJ'), ('corner', 'NN'), ('of', 'IN'), ('Unit', 'NNP'), ('4', 'CD'), ('Foundry', 'NNP'), ('Industrial', 'NNP'), ('Estate', 'NNP'), (',', ','), ('Victoria', 'NNP'), ('Street', 'NNP'), ('and', 'CC'), ('approximately', 'RB'), ('221', 'CD'), ('metres', 'NNS'), ('east', 'RB'), ('of', 'IN'), ('the', 'DT'), ('most', 'RBS'), ('southerly', 'JJ'), ('corner', 'NN'), ('of', 'IN'), ('Unit', 'NNP'), ('5', 'CD'), ('Foundry', 'NNP'), ('Industrial', 'NNP'), ('Estate', 'NNP'), (',', ','), ('Victoria', 'NNP'), ('Street', 'NNP'), (',', ','), ('then', 'RB'), ('proceeding', 'VBG'), ('in', 'IN'), ('a', 'DT'), ('generally', 'RB'), ('easterly', 'JJ'), ('direction', 'NN'), ('for', 'IN'), ('approximately', 'RB'), ('45', 'CD'), ('metres', 'NNS'), ('to', 'TO'), ('a', 'DT'), ('point', 'NN'), ('approximately', 'RB'), ('265', 'CD'), ('metres', 'NNS'), ('east-south-east', 'JJ'), ('of', 'IN'), ('the', 'DT'), ('most', 'RBS'), ('north-easterly', 'JJ'), ('corner', 'NN'), ('of', 'IN'), ('Unit', 'NNP'), ('3', 'CD'), ('Foundry', 'NNP'), ('Industrial', 'NNP'), ('Estate', 'NNP'), (',', ','), ('Victoria', 'NNP'), ('Street', 'NNP'), ('and', 'CC'), ('approximately', 'RB'), ('265', 'CD'), ('metres', 'NNS'), ('east', 'RB'), ('of', 'IN'), ('the', 'DT'), ('most', 'RBS'), ('southerly', 'JJ'), ('corner', 'NN'), ('of', 'IN'), ('Unit', 'NNP'), ('5', 'CD'), ('Foundry', 'NNP'), ('Industrial', 'NNP'), ('Estate', 'NNP'), (',', ','), ('Victoria', 'NNP'), ('Street', 'NNP'), (',', ','), ('then', 'RB'), ('proceeding', 'VBG'), ('in', 'IN'), ('a', 'DT'), ('generally', 'RB'), ('east-south-east', 'JJ'), ('direction', 'NN'), ('for', 'IN'), ('approximately', 'RB'), ('102', 'CD'), ('metres', 'NNS'), ('to', 'TO'), ('a', 'DT'), ('point', 'NN'), ('approximately', 'RB'), ('366', 'CD'), ('metres', 'NNS'), ('east-south-east', 'JJ'), ('of', 'IN'), ('the', 'DT'), ('most', 'RBS'), ('easterly', 'JJ'), ('corner', 'NN'), ('of', 'IN'), ('Unit', 'NNP'), ('3', 'CD'), ('Foundry', 'NNP'), ('Industrial', 'NNP'), ('Estate', 'NNP'), (',', ','), ('Victoria', 'NNP'), ('Street', 'NNP'), ('and', 'CC'), ('approximately', 'RB'), ('463', 'CD'), ('metres', 'NNS'), ('east', 'RB'), ('of', 'IN'), ('the', 'DT'), ('most', 'RBS'), ('north', 'JJ'), ('easterly', 'JJ'), ('corner', 'NN'), ('of', 'IN'), ('22', 'CD'), ('Ann', 'NNP'), ('Street', 'NNP'), ('West', 'NNP'), (',', ','), ('Widnes', 'NNP'), (',', ','), ('then', 'RB'), ('proceeding', 'VBG'), ('in', 'IN'), ('a', 'DT'), ('generally', 'RB'), ('north-north-easterly', 'JJ'), ('direction', 'NN'), ('for', 'IN'), ('approximately', 'RB'), ('19', 'CD'), ('metres', 'NNS'), ('to', 'TO'), ('a', 'DT'), ('point', 'NN'), ('approximately', 'RB'), ('368', 'CD'), ('metres', 'NNS'), ('east-south-east', 'JJ'), ('of', 'IN'), ('the', 'DT'), ('most', 'RBS'), ('easterly', 'JJ'), ('corner', 'NN'), ('of', 'IN'), ('Unit', 'NNP'), ('3', 'CD'), ('Foundry', 'NNP'), ('Industrial', 'NNP'), ('Estate', 'NNP'), (',', ','), ('Victoria', 'NNP'), ('Street', 'NNP'), ('and', 'CC'), ('approximately', 'RB'), ('512', 'CD'), ('metres', 'NNS'), ('east', 'RB'), ('of', 'IN'), ('the', 'DT'), ('most', 'RBS'), ('south', 'JJ'), ('easterly', 'JJ'), ('corner', 'NN'), ('of', 'IN'), ('17', 'CD'), ('Batherton', 'NNP'), ('Close', 'NNP'), (',', ','), ('Widnes', 'NNP'), ('then', 'RB'), ('proceeding', 'VBG'), ('in', 'IN'), ('a', 'DT'), ('generally', 'RB'), ('east-south', 'JJ'), (',', ','), ('easterly', 'JJ'), ('direction', 'NN'), ('for', 'IN'), ('approximately', 'RB'), ('16', 'CD'), ('metres', 'NNS'), ('to', 'TO'), ('a', 'DT'), ('point', 'NN'), ('approximately', 'RB'), ('420', 'CD'), ('metres', 'NNS'), ('east-south-east', 'JJ'), ('of', 'IN'), ('the', 'DT'), ('most', 'RBS'), ('southerly', 'JJ'), ('corner', 'NN'), ('of', 'IN'), ('Unit', 'NNP'), ('2', 'CD'), ('Foundry', 'NNP'), ('Industrial', 'NNP'), ('Estate', 'NNP'), (',', ','), ('Victoria', 'NNP'), ('Street', 'NNP'), ('and', 'CC'), ('approximately', 'RB'), ('533', 'CD'), ('metres', 'NNS'), ('east', 'RB'), ('of', 'IN'), ('the', 'DT'), ('most', 'RBS'), ('south-easterly', 'JJ'), ('corner', 'NN'), ('of', 'IN'), ('17', 'CD'), ('Batherton', 'NNP'), ('Close', 'NNP'), (',', ','), ('then', 'RB'), ('proceeding', 'VBG'), ('in', 'IN'), ('a', 'DT'), ('generally', 'RB'), ('east-north-easterly', 'JJ'), ('direction', 'NN'), ('for', 'IN'), ('approximately', 'RB'), ('240', 'CD'), ('metres', 'NNS'), ('to', 'TO'), ('a', 'DT'), ('point', 'NN'), ('approximately', 'RB'), ('606', 'CD'), ('metres', 'NNS'), ('east', 'RB'), ('of', 'IN'), ('the', 'DT'), ('most', 'RBS'), ('northerly', 'JJ'), ('corner', 'NN'), ('of', 'IN'), ('Unit', 'NNP'), ('4', 'CD'), ('Foundry', 'NNP'), ('Industrial', 'NNP'), ('Estate', 'NNP'), (',', ','), ('Victoria', 'NNP'), ('Street', 'NNP'), ('and', 'CC'), ('approximately', 'RB'), ('23', 'CD'), ('metres', 'NNS'), ('south', 'RB'), ('of', 'IN'), ('the', 'DT'), ('most', 'RBS'), ('south', 'JJ'), ('westerly', 'JJ'), ('corner', 'NN'), ('of', 'IN'), ('the', 'DT'), ('boundary', 'JJ'), ('fencing', 'NN'), ('of', 'IN'), ('the', 'DT'), ('scrap', 'NN'), ('metal', 'NN'), ('yard', 'NN'), ('on', 'IN'), ('the', 'DT'), ('south', 'JJ'), ('side', 'NN'), ('of', 'IN'), ('Cornubia', 'NNP'), ('Road', 'NNP'), (',', ','), ('Widnes', 'NNP'), (',', ','), ('then', 'RB'), ('proceeding', 'VBG'), ('in', 'IN'), ('a', 'DT'), ('generally', 'RB'), ('northern', 'JJ'), ('direction', 'NN'), ('for', 'IN'), ('approximately', 'RB'), ('44', 'CD'), ('metres', 'NNS'), ('to', 'TO'), ('a', 'DT'), ('point', 'NN'), ('approximately', 'RB'), ('3', 'CD'), ('metres', 'NNS'), ('west-north-west', 'CD'), ('of', 'IN'), ('the', 'DT'), ('most', 'RBS'), ('north', 'JJ'), ('westerly', 'JJ'), ('corner', 'NN'), ('of', 'IN'), ('the', 'DT'), ('boundary', 'JJ'), ('fence', 'NN'), ('of', 'IN'), ('the', 'DT'), ('scrap', 'NN'), ('metal', 'NN'), ('yard', 'NN'), ('on', 'IN'), ('the', 'DT'), ('south', 'JJ'), ('side', 'NN'), ('of', 'IN'), ('Cornubia', 'NNP'), ('Road', 'NNP'), ('and', 'CC'), ('approximately', 'RB'), ('47', 'CD'), ('metres', 'NNS'), ('west-south-west', 'CD'), ('of', 'IN'), ('the', 'DT'), ('stub', 'JJ'), ('end', 'NN'), ('of', 'IN'), ('Cornubia', 'NNP'), ('Road.I', 'NNP'), ('finished', 'VBD'), ('the', 'DT'), ('work', 'NN'), ('in', 'IN'), ('less', 'JJR'), ('than', 'IN'), ('an', 'DT'), ('hour', 'NN'), ('.', '.'), ('Did', 'NNP'), ('he', 'PRP'), ('look', 'VB'), ('like', 'IN'), ('a', 'DT'), ('doctor', 'NN'), ('?', '.'), ('He', 'PRP'), ('ran', 'VBD'), ('into', 'IN'), ('debt', 'NN'), ('.', '.'), ('They', 'PRP'), ('concluded', 'VBD'), ('that', 'IN'), ('he', 'PRP'), ('had', 'VBD'), ('told', 'VBN'), ('a', 'DT'), ('lie', 'NN'), ('.', '.'), ('I', 'PRP'), ('ran', 'VBD'), ('into', 'IN'), ('Mary', 'NNP'), ('at', 'IN'), ('the', 'DT'), ('party', 'NN'), ('last', 'JJ'), ('week', 'NN'), ('.', '.'), ('I', 'PRP'), ('said', 'VBD'), ('nothing', 'NN'), ('about', 'IN'), ('the', 'DT'), ('matter', 'NN'), ('.', '.'), ('His', 'PRP$'), ('brother', 'NN'), ('is', 'VBZ'), ('more', 'RBR'), ('patient', 'JJ'), ('than', 'IN'), ('he', 'PRP'), ('is', 'VBZ'), ('.', '.'), ('Tom', 'NNP'), ('was', 'VBD'), ('caught', 'VBN'), ('sneaking', 'VBG'), ('out', 'IN'), ('of', 'IN'), ('the', 'DT'), ('room', 'NN'), ('.', '.'), ('No', 'DT'), ('one', 'NN'), ('stops', 'VBZ'), ('to', 'TO'), ('listen', 'VB'), ('to', 'TO'), ('him', 'PRP'), ('.', '.'), ('Please', 'VB'), ('wait', 'NN'), ('around', 'IN'), ('for', 'IN'), ('a', 'DT'), ('while', 'NN'), ('.', '.'), ('There', 'EX'), ('is', 'VBZ'), ('going', 'VBG'), ('to', 'TO'), ('be', 'VB'), ('a', 'DT'), ('storm', 'NN'), ('.', '.'), ('I', 'PRP'), ('clapped', 'VBD'), ('my', 'PRP$'), ('hands', 'NNS'), ('.', '.'), ('I', 'PRP'), ('have', 'VBP'), ('just', 'RB'), ('finished', 'VBN'), ('my', 'PRP$'), ('homework', 'NN'), ('.', '.'), ('What', 'WP'), ('do', 'VBP'), ('you', 'PRP'), ('plan', 'VB'), ('to', 'TO'), ('do', 'VB'), ('?', '.'), ('I', 'PRP'), ('asked', 'VBD'), ('him', 'PRP'), ('if', 'IN'), ('he', 'PRP'), ('knew', 'VBD'), ('my', 'PRP$'), ('name', 'NN'), ('.', '.')]\n"
          ]
        }
      ]
    }
  ]
}